{
 "cells": [
  {
   "cell_type": "code",
   "execution_count": null,
   "metadata": {},
   "outputs": [],
   "source": [
    "# 4개 열 병합 -> 2만개 까지 cosine_similarity 가능, 전체 병합 -> 만개까지 가능\n",
    "# 중복된 값 너무 많이나와서 제거함 -> 데이터가 50만개 에서 59000개 됨"
   ]
  },
  {
   "cell_type": "code",
   "execution_count": 1,
   "metadata": {},
   "outputs": [],
   "source": [
    "import pandas as pd\n",
    "from sklearn.feature_extraction.text import CountVectorizer\n",
    "from sklearn.metrics.pairwise import cosine_similarity"
   ]
  },
  {
   "cell_type": "code",
   "execution_count": 13,
   "metadata": {},
   "outputs": [],
   "source": [
    "data = pd.read_excel(\"./datasets/복합기 크롤링 중복제거.xlsx\")"
   ]
  },
  {
   "cell_type": "code",
   "execution_count": 14,
   "metadata": {},
   "outputs": [
    {
     "data": {
      "text/html": [
       "<div>\n",
       "<style scoped>\n",
       "    .dataframe tbody tr th:only-of-type {\n",
       "        vertical-align: middle;\n",
       "    }\n",
       "\n",
       "    .dataframe tbody tr th {\n",
       "        vertical-align: top;\n",
       "    }\n",
       "\n",
       "    .dataframe thead th {\n",
       "        text-align: right;\n",
       "    }\n",
       "</style>\n",
       "<table border=\"1\" class=\"dataframe\">\n",
       "  <thead>\n",
       "    <tr style=\"text-align: right;\">\n",
       "      <th></th>\n",
       "      <th>상품명</th>\n",
       "      <th>가격</th>\n",
       "      <th>스펙 목록</th>\n",
       "      <th>Unnamed: 3</th>\n",
       "      <th>Unnamed: 4</th>\n",
       "      <th>Unnamed: 5</th>\n",
       "      <th>Unnamed: 6</th>\n",
       "      <th>Unnamed: 7</th>\n",
       "      <th>Unnamed: 8</th>\n",
       "      <th>Unnamed: 9</th>\n",
       "      <th>...</th>\n",
       "      <th>Unnamed: 20</th>\n",
       "      <th>Unnamed: 21</th>\n",
       "      <th>Unnamed: 22</th>\n",
       "      <th>Unnamed: 23</th>\n",
       "      <th>Unnamed: 24</th>\n",
       "      <th>Unnamed: 25</th>\n",
       "      <th>Unnamed: 26</th>\n",
       "      <th>Unnamed: 27</th>\n",
       "      <th>Unnamed: 28</th>\n",
       "      <th>Unnamed: 29</th>\n",
       "    </tr>\n",
       "  </thead>\n",
       "  <tbody>\n",
       "    <tr>\n",
       "      <th>0</th>\n",
       "      <td>ApeosPort 2560</td>\n",
       "      <td>2125000</td>\n",
       "      <td>흑백 디지털 복합기</td>\n",
       "      <td>잉크젯</td>\n",
       "      <td>포토프린터</td>\n",
       "      <td>컬러 출력</td>\n",
       "      <td>복사</td>\n",
       "      <td>스캔</td>\n",
       "      <td>팩스</td>\n",
       "      <td>인쇄 해상도: 4,800dpi</td>\n",
       "      <td>...</td>\n",
       "      <td>NaN</td>\n",
       "      <td>NaN</td>\n",
       "      <td>NaN</td>\n",
       "      <td>NaN</td>\n",
       "      <td>NaN</td>\n",
       "      <td>NaN</td>\n",
       "      <td>NaN</td>\n",
       "      <td>NaN</td>\n",
       "      <td>NaN</td>\n",
       "      <td>NaN</td>\n",
       "    </tr>\n",
       "    <tr>\n",
       "      <th>1</th>\n",
       "      <td>ApeosPort 3060</td>\n",
       "      <td>2200000</td>\n",
       "      <td>흑백 디지털 복합기</td>\n",
       "      <td>잉크젯</td>\n",
       "      <td>포토프린터</td>\n",
       "      <td>컬러 출력</td>\n",
       "      <td>복사</td>\n",
       "      <td>스캔</td>\n",
       "      <td>팩스</td>\n",
       "      <td>인쇄 해상도: 4,800dpi</td>\n",
       "      <td>...</td>\n",
       "      <td>NaN</td>\n",
       "      <td>NaN</td>\n",
       "      <td>NaN</td>\n",
       "      <td>NaN</td>\n",
       "      <td>NaN</td>\n",
       "      <td>NaN</td>\n",
       "      <td>NaN</td>\n",
       "      <td>NaN</td>\n",
       "      <td>NaN</td>\n",
       "      <td>NaN</td>\n",
       "    </tr>\n",
       "    <tr>\n",
       "      <th>2</th>\n",
       "      <td>ApeosPort 3560</td>\n",
       "      <td>2528000</td>\n",
       "      <td>흑백 디지털 복합기</td>\n",
       "      <td>잉크젯</td>\n",
       "      <td>컬러 출력</td>\n",
       "      <td>복사</td>\n",
       "      <td>스캔</td>\n",
       "      <td>인쇄 해상도: 4,800dpi</td>\n",
       "      <td>무한 패키지</td>\n",
       "      <td>연결방식: USB</td>\n",
       "      <td>...</td>\n",
       "      <td>NaN</td>\n",
       "      <td>NaN</td>\n",
       "      <td>NaN</td>\n",
       "      <td>NaN</td>\n",
       "      <td>NaN</td>\n",
       "      <td>NaN</td>\n",
       "      <td>NaN</td>\n",
       "      <td>NaN</td>\n",
       "      <td>NaN</td>\n",
       "      <td>NaN</td>\n",
       "    </tr>\n",
       "    <tr>\n",
       "      <th>3</th>\n",
       "      <td>ApeosPort C2060</td>\n",
       "      <td>2600000</td>\n",
       "      <td>컬러 디지털 복합기</td>\n",
       "      <td>인쇄</td>\n",
       "      <td>복사</td>\n",
       "      <td>스캔</td>\n",
       "      <td>컬러 속도: 23ppm</td>\n",
       "      <td>흑백 속도: 28ppm</td>\n",
       "      <td>인쇄 해상도: 600 x 600dpi</td>\n",
       "      <td>자동양면인쇄</td>\n",
       "      <td>...</td>\n",
       "      <td>가로: 699mm</td>\n",
       "      <td>세로: 742mm</td>\n",
       "      <td>높이: 759mm</td>\n",
       "      <td>무게: 121kg</td>\n",
       "      <td>NaN</td>\n",
       "      <td>NaN</td>\n",
       "      <td>NaN</td>\n",
       "      <td>NaN</td>\n",
       "      <td>NaN</td>\n",
       "      <td>NaN</td>\n",
       "    </tr>\n",
       "    <tr>\n",
       "      <th>4</th>\n",
       "      <td>ApeosPort C2560</td>\n",
       "      <td>2778170</td>\n",
       "      <td>컬러 디지털 복합기</td>\n",
       "      <td>인쇄</td>\n",
       "      <td>복사</td>\n",
       "      <td>스캔</td>\n",
       "      <td>팩스</td>\n",
       "      <td>컬러 속도: 23ppm</td>\n",
       "      <td>흑백 속도: 25ppm</td>\n",
       "      <td>인쇄 해상도: 1200 x 1200dpi</td>\n",
       "      <td>...</td>\n",
       "      <td>무게: 125kg</td>\n",
       "      <td>NaN</td>\n",
       "      <td>NaN</td>\n",
       "      <td>NaN</td>\n",
       "      <td>NaN</td>\n",
       "      <td>NaN</td>\n",
       "      <td>NaN</td>\n",
       "      <td>NaN</td>\n",
       "      <td>NaN</td>\n",
       "      <td>NaN</td>\n",
       "    </tr>\n",
       "  </tbody>\n",
       "</table>\n",
       "<p>5 rows × 30 columns</p>\n",
       "</div>"
      ],
      "text/plain": [
       "               상품명       가격        스펙 목록 Unnamed: 3 Unnamed: 4 Unnamed: 5  \\\n",
       "0   ApeosPort 2560  2125000  흑백 디지털 복합기        잉크젯      포토프린터      컬러 출력    \n",
       "1   ApeosPort 3060  2200000  흑백 디지털 복합기        잉크젯      포토프린터      컬러 출력    \n",
       "2   ApeosPort 3560  2528000  흑백 디지털 복합기        잉크젯      컬러 출력         복사    \n",
       "3  ApeosPort C2060  2600000  컬러 디지털 복합기         인쇄         복사         스캔    \n",
       "4  ApeosPort C2560  2778170  컬러 디지털 복합기         인쇄         복사         스캔    \n",
       "\n",
       "       Unnamed: 6          Unnamed: 7              Unnamed: 8  \\\n",
       "0             복사                  스캔                      팩스    \n",
       "1             복사                  스캔                      팩스    \n",
       "2             스캔    인쇄 해상도: 4,800dpi                  무한 패키지    \n",
       "3   컬러 속도: 23ppm        흑백 속도: 28ppm    인쇄 해상도: 600 x 600dpi    \n",
       "4             팩스        컬러 속도: 23ppm            흑백 속도: 25ppm    \n",
       "\n",
       "                 Unnamed: 9  ...  Unnamed: 20  Unnamed: 21  Unnamed: 22  \\\n",
       "0         인쇄 해상도: 4,800dpi   ...          NaN          NaN          NaN   \n",
       "1         인쇄 해상도: 4,800dpi   ...          NaN          NaN          NaN   \n",
       "2                연결방식: USB   ...          NaN          NaN          NaN   \n",
       "3                   자동양면인쇄   ...   가로: 699mm    세로: 742mm    높이: 759mm    \n",
       "4   인쇄 해상도: 1200 x 1200dpi   ...    무게: 125kg          NaN          NaN   \n",
       "\n",
       "  Unnamed: 23 Unnamed: 24 Unnamed: 25 Unnamed: 26 Unnamed: 27 Unnamed: 28  \\\n",
       "0         NaN         NaN         NaN         NaN         NaN         NaN   \n",
       "1         NaN         NaN         NaN         NaN         NaN         NaN   \n",
       "2         NaN         NaN         NaN         NaN         NaN         NaN   \n",
       "3   무게: 121kg         NaN         NaN         NaN         NaN         NaN   \n",
       "4         NaN         NaN         NaN         NaN         NaN         NaN   \n",
       "\n",
       "  Unnamed: 29  \n",
       "0         NaN  \n",
       "1         NaN  \n",
       "2         NaN  \n",
       "3         NaN  \n",
       "4         NaN  \n",
       "\n",
       "[5 rows x 30 columns]"
      ]
     },
     "execution_count": 14,
     "metadata": {},
     "output_type": "execute_result"
    }
   ],
   "source": [
    "data.head()"
   ]
  },
  {
   "cell_type": "code",
   "execution_count": 15,
   "metadata": {},
   "outputs": [
    {
     "data": {
      "text/plain": [
       "(5901, 30)"
      ]
     },
     "execution_count": 15,
     "metadata": {},
     "output_type": "execute_result"
    }
   ],
   "source": [
    "data.shape"
   ]
  },
  {
   "cell_type": "code",
   "execution_count": 16,
   "metadata": {},
   "outputs": [],
   "source": [
    "data = data.fillna(0)"
   ]
  },
  {
   "cell_type": "code",
   "execution_count": 17,
   "metadata": {},
   "outputs": [
    {
     "data": {
      "text/html": [
       "<div>\n",
       "<style scoped>\n",
       "    .dataframe tbody tr th:only-of-type {\n",
       "        vertical-align: middle;\n",
       "    }\n",
       "\n",
       "    .dataframe tbody tr th {\n",
       "        vertical-align: top;\n",
       "    }\n",
       "\n",
       "    .dataframe thead th {\n",
       "        text-align: right;\n",
       "    }\n",
       "</style>\n",
       "<table border=\"1\" class=\"dataframe\">\n",
       "  <thead>\n",
       "    <tr style=\"text-align: right;\">\n",
       "      <th></th>\n",
       "      <th>상품명</th>\n",
       "      <th>가격</th>\n",
       "      <th>스펙 목록</th>\n",
       "      <th>Unnamed: 3</th>\n",
       "      <th>Unnamed: 4</th>\n",
       "      <th>Unnamed: 5</th>\n",
       "      <th>Unnamed: 6</th>\n",
       "      <th>Unnamed: 7</th>\n",
       "      <th>Unnamed: 8</th>\n",
       "      <th>Unnamed: 9</th>\n",
       "      <th>...</th>\n",
       "      <th>Unnamed: 20</th>\n",
       "      <th>Unnamed: 21</th>\n",
       "      <th>Unnamed: 22</th>\n",
       "      <th>Unnamed: 23</th>\n",
       "      <th>Unnamed: 24</th>\n",
       "      <th>Unnamed: 25</th>\n",
       "      <th>Unnamed: 26</th>\n",
       "      <th>Unnamed: 27</th>\n",
       "      <th>Unnamed: 28</th>\n",
       "      <th>Unnamed: 29</th>\n",
       "    </tr>\n",
       "  </thead>\n",
       "  <tbody>\n",
       "    <tr>\n",
       "      <th>0</th>\n",
       "      <td>ApeosPort 2560</td>\n",
       "      <td>2125000</td>\n",
       "      <td>흑백 디지털 복합기</td>\n",
       "      <td>잉크젯</td>\n",
       "      <td>포토프린터</td>\n",
       "      <td>컬러 출력</td>\n",
       "      <td>복사</td>\n",
       "      <td>스캔</td>\n",
       "      <td>팩스</td>\n",
       "      <td>인쇄 해상도: 4,800dpi</td>\n",
       "      <td>...</td>\n",
       "      <td>0</td>\n",
       "      <td>0</td>\n",
       "      <td>0</td>\n",
       "      <td>0</td>\n",
       "      <td>0</td>\n",
       "      <td>0</td>\n",
       "      <td>0</td>\n",
       "      <td>0</td>\n",
       "      <td>0</td>\n",
       "      <td>0</td>\n",
       "    </tr>\n",
       "    <tr>\n",
       "      <th>1</th>\n",
       "      <td>ApeosPort 3060</td>\n",
       "      <td>2200000</td>\n",
       "      <td>흑백 디지털 복합기</td>\n",
       "      <td>잉크젯</td>\n",
       "      <td>포토프린터</td>\n",
       "      <td>컬러 출력</td>\n",
       "      <td>복사</td>\n",
       "      <td>스캔</td>\n",
       "      <td>팩스</td>\n",
       "      <td>인쇄 해상도: 4,800dpi</td>\n",
       "      <td>...</td>\n",
       "      <td>0</td>\n",
       "      <td>0</td>\n",
       "      <td>0</td>\n",
       "      <td>0</td>\n",
       "      <td>0</td>\n",
       "      <td>0</td>\n",
       "      <td>0</td>\n",
       "      <td>0</td>\n",
       "      <td>0</td>\n",
       "      <td>0</td>\n",
       "    </tr>\n",
       "  </tbody>\n",
       "</table>\n",
       "<p>2 rows × 30 columns</p>\n",
       "</div>"
      ],
      "text/plain": [
       "              상품명       가격        스펙 목록 Unnamed: 3 Unnamed: 4 Unnamed: 5  \\\n",
       "0  ApeosPort 2560  2125000  흑백 디지털 복합기        잉크젯      포토프린터      컬러 출력    \n",
       "1  ApeosPort 3060  2200000  흑백 디지털 복합기        잉크젯      포토프린터      컬러 출력    \n",
       "\n",
       "  Unnamed: 6 Unnamed: 7 Unnamed: 8          Unnamed: 9  ... Unnamed: 20  \\\n",
       "0        복사         스캔         팩스    인쇄 해상도: 4,800dpi   ...           0   \n",
       "1        복사         스캔         팩스    인쇄 해상도: 4,800dpi   ...           0   \n",
       "\n",
       "  Unnamed: 21 Unnamed: 22 Unnamed: 23 Unnamed: 24 Unnamed: 25 Unnamed: 26  \\\n",
       "0           0           0           0           0           0           0   \n",
       "1           0           0           0           0           0           0   \n",
       "\n",
       "  Unnamed: 27 Unnamed: 28 Unnamed: 29  \n",
       "0           0           0           0  \n",
       "1           0           0           0  \n",
       "\n",
       "[2 rows x 30 columns]"
      ]
     },
     "execution_count": 17,
     "metadata": {},
     "output_type": "execute_result"
    }
   ],
   "source": [
    "data.head(2)"
   ]
  },
  {
   "cell_type": "code",
   "execution_count": 18,
   "metadata": {},
   "outputs": [],
   "source": [
    "#나누어져 있는 스펙 목록 컬럼을 keyword로 합침\n",
    "cols = ['Unnamed: ' + str(i) for i in range(3,30)]"
   ]
  },
  {
   "cell_type": "code",
   "execution_count": 19,
   "metadata": {},
   "outputs": [],
   "source": [
    "data['keyword'] = data[cols].apply(lambda row: ''.join(row.values.astype(str)), axis=1)"
   ]
  },
  {
   "cell_type": "code",
   "execution_count": 20,
   "metadata": {},
   "outputs": [],
   "source": [
    "colss=['스펙 목록', 'keyword']\n",
    "data['keyword'] = data[colss].apply(lambda row: ''.join(row.values.astype(str)), axis=1)"
   ]
  },
  {
   "cell_type": "code",
   "execution_count": 21,
   "metadata": {},
   "outputs": [
    {
     "data": {
      "text/plain": [
       "0    흑백 디지털 복합기  잉크젯  포토프린터  컬러 출력  복사  스캔  팩스  인쇄 ...\n",
       "1    흑백 디지털 복합기  잉크젯  포토프린터  컬러 출력  복사  스캔  팩스  인쇄 ...\n",
       "2    흑백 디지털 복합기  잉크젯  컬러 출력  복사  스캔  인쇄 해상도: 4,800d...\n",
       "3    컬러 디지털 복합기  인쇄  복사  스캔  컬러 속도: 23ppm  흑백 속도: 2...\n",
       "4    컬러 디지털 복합기  인쇄  복사  스캔  팩스  컬러 속도: 23ppm  흑백 속...\n",
       "Name: keyword, dtype: object"
      ]
     },
     "execution_count": 21,
     "metadata": {},
     "output_type": "execute_result"
    }
   ],
   "source": [
    "data['keyword'].head()"
   ]
  },
  {
   "cell_type": "code",
   "execution_count": 22,
   "metadata": {},
   "outputs": [],
   "source": [
    "# 상품명, 가격, 스펙목록, keyword 남기고 컬럼 제거\n",
    "data = data.drop(cols, axis=1)"
   ]
  },
  {
   "cell_type": "code",
   "execution_count": 23,
   "metadata": {},
   "outputs": [
    {
     "data": {
      "text/html": [
       "<div>\n",
       "<style scoped>\n",
       "    .dataframe tbody tr th:only-of-type {\n",
       "        vertical-align: middle;\n",
       "    }\n",
       "\n",
       "    .dataframe tbody tr th {\n",
       "        vertical-align: top;\n",
       "    }\n",
       "\n",
       "    .dataframe thead th {\n",
       "        text-align: right;\n",
       "    }\n",
       "</style>\n",
       "<table border=\"1\" class=\"dataframe\">\n",
       "  <thead>\n",
       "    <tr style=\"text-align: right;\">\n",
       "      <th></th>\n",
       "      <th>상품명</th>\n",
       "      <th>가격</th>\n",
       "      <th>스펙 목록</th>\n",
       "      <th>keyword</th>\n",
       "    </tr>\n",
       "  </thead>\n",
       "  <tbody>\n",
       "    <tr>\n",
       "      <th>0</th>\n",
       "      <td>ApeosPort 2560</td>\n",
       "      <td>2125000</td>\n",
       "      <td>흑백 디지털 복합기</td>\n",
       "      <td>흑백 디지털 복합기  잉크젯  포토프린터  컬러 출력  복사  스캔  팩스  인쇄 ...</td>\n",
       "    </tr>\n",
       "    <tr>\n",
       "      <th>1</th>\n",
       "      <td>ApeosPort 3060</td>\n",
       "      <td>2200000</td>\n",
       "      <td>흑백 디지털 복합기</td>\n",
       "      <td>흑백 디지털 복합기  잉크젯  포토프린터  컬러 출력  복사  스캔  팩스  인쇄 ...</td>\n",
       "    </tr>\n",
       "    <tr>\n",
       "      <th>2</th>\n",
       "      <td>ApeosPort 3560</td>\n",
       "      <td>2528000</td>\n",
       "      <td>흑백 디지털 복합기</td>\n",
       "      <td>흑백 디지털 복합기  잉크젯  컬러 출력  복사  스캔  인쇄 해상도: 4,800d...</td>\n",
       "    </tr>\n",
       "  </tbody>\n",
       "</table>\n",
       "</div>"
      ],
      "text/plain": [
       "              상품명       가격        스펙 목록  \\\n",
       "0  ApeosPort 2560  2125000  흑백 디지털 복합기    \n",
       "1  ApeosPort 3060  2200000  흑백 디지털 복합기    \n",
       "2  ApeosPort 3560  2528000  흑백 디지털 복합기    \n",
       "\n",
       "                                             keyword  \n",
       "0  흑백 디지털 복합기  잉크젯  포토프린터  컬러 출력  복사  스캔  팩스  인쇄 ...  \n",
       "1  흑백 디지털 복합기  잉크젯  포토프린터  컬러 출력  복사  스캔  팩스  인쇄 ...  \n",
       "2  흑백 디지털 복합기  잉크젯  컬러 출력  복사  스캔  인쇄 해상도: 4,800d...  "
      ]
     },
     "execution_count": 23,
     "metadata": {},
     "output_type": "execute_result"
    }
   ],
   "source": [
    "data.head(3)"
   ]
  },
  {
   "cell_type": "code",
   "execution_count": 25,
   "metadata": {},
   "outputs": [
    {
     "data": {
      "text/plain": [
       "(5901, 4)"
      ]
     },
     "execution_count": 25,
     "metadata": {},
     "output_type": "execute_result"
    }
   ],
   "source": [
    "data.shape"
   ]
  },
  {
   "cell_type": "code",
   "execution_count": 26,
   "metadata": {},
   "outputs": [],
   "source": [
    "# 1~3단어로 객체를 만들어주고 문자열을 숫자로 바꾸어 벡터화 시킴.\n",
    "vector = CountVectorizer(ngram_range=(1,3))"
   ]
  },
  {
   "cell_type": "code",
   "execution_count": 27,
   "metadata": {},
   "outputs": [],
   "source": [
    "vector_keyword = vector.fit_transform(data['keyword'])"
   ]
  },
  {
   "cell_type": "code",
   "execution_count": 28,
   "metadata": {},
   "outputs": [],
   "source": [
    "# keyword를 코사인 유사도로 유사도 측정\n",
    "keyword_c_sim = cosine_similarity(vector_keyword, vector_keyword).argsort()[:, ::-1]"
   ]
  },
  {
   "cell_type": "code",
   "execution_count": 29,
   "metadata": {},
   "outputs": [
    {
     "data": {
      "text/plain": [
       "(5901, 5901)"
      ]
     },
     "execution_count": 29,
     "metadata": {},
     "output_type": "execute_result"
    }
   ],
   "source": [
    "keyword_c_sim.shape"
   ]
  },
  {
   "cell_type": "code",
   "execution_count": 30,
   "metadata": {},
   "outputs": [],
   "source": [
    "#상품 추천\n",
    "def get_recommend_list(df, title, top=30):\n",
    "    #특정 상품의 정보를가져온다.\n",
    "    target_index = df[df['상품명'] == title].index.values\n",
    "    \n",
    "    #비슷한 코사인 유사도를 가진 정보를 뽑아 1차원배열로 저장한다.\n",
    "    sim_index = keyword_c_sim[target_index, :top].reshape(-1)\n",
    "    #자기 자신은 제외한다.\n",
    "    sim_index = sim_index[sim_index != target_index]\n",
    "    \n",
    "    #dataframe으로 만들고 가장 비슷한 10개의 항목을 return 한다.\n",
    "    result = df.iloc[sim_index][:10]\n",
    "    return result"
   ]
  },
  {
   "cell_type": "code",
   "execution_count": 31,
   "metadata": {},
   "outputs": [
    {
     "data": {
      "text/html": [
       "<div>\n",
       "<style scoped>\n",
       "    .dataframe tbody tr th:only-of-type {\n",
       "        vertical-align: middle;\n",
       "    }\n",
       "\n",
       "    .dataframe tbody tr th {\n",
       "        vertical-align: top;\n",
       "    }\n",
       "\n",
       "    .dataframe thead th {\n",
       "        text-align: right;\n",
       "    }\n",
       "</style>\n",
       "<table border=\"1\" class=\"dataframe\">\n",
       "  <thead>\n",
       "    <tr style=\"text-align: right;\">\n",
       "      <th></th>\n",
       "      <th>상품명</th>\n",
       "      <th>가격</th>\n",
       "      <th>스펙 목록</th>\n",
       "      <th>keyword</th>\n",
       "    </tr>\n",
       "  </thead>\n",
       "  <tbody>\n",
       "    <tr>\n",
       "      <th>585</th>\n",
       "      <td>Canon iR2206F</td>\n",
       "      <td>786000</td>\n",
       "      <td>흑백 디지털 복합기</td>\n",
       "      <td>흑백 디지털 복합기  잉크젯  포토프린터  컬러 출력  복사  스캔  팩스  인쇄 ...</td>\n",
       "    </tr>\n",
       "    <tr>\n",
       "      <th>3614</th>\n",
       "      <td>Kyocera FS-1035MFP/DP</td>\n",
       "      <td>0</td>\n",
       "      <td>흑백 디지털 복합기</td>\n",
       "      <td>흑백 디지털 복합기  잉크젯  포토프린터  컬러 출력  복사  스캔  팩스  인쇄 ...</td>\n",
       "    </tr>\n",
       "    <tr>\n",
       "      <th>3655</th>\n",
       "      <td>Kyocera TASKalfa 4012i</td>\n",
       "      <td>2564000</td>\n",
       "      <td>흑백 디지털 복합기</td>\n",
       "      <td>흑백 디지털 복합기  잉크젯  포토프린터  컬러 출력  복사  스캔  팩스  인쇄 ...</td>\n",
       "    </tr>\n",
       "    <tr>\n",
       "      <th>618</th>\n",
       "      <td>Canon IR2425</td>\n",
       "      <td>1096380</td>\n",
       "      <td>흑백 디지털 복합기</td>\n",
       "      <td>흑백 디지털 복합기  잉크젯  포토프린터  컬러 출력  복사  스캔  팩스  인쇄 ...</td>\n",
       "    </tr>\n",
       "    <tr>\n",
       "      <th>660</th>\n",
       "      <td>Canon iR2525</td>\n",
       "      <td>1649990</td>\n",
       "      <td>흑백 디지털 복합기</td>\n",
       "      <td>흑백 디지털 복합기  잉크젯  포토프린터  컬러 출력  복사  스캔  팩스  인쇄 ...</td>\n",
       "    </tr>\n",
       "    <tr>\n",
       "      <th>130</th>\n",
       "      <td>Brother MFC-L6900DW</td>\n",
       "      <td>657720</td>\n",
       "      <td>흑백 디지털 복합기</td>\n",
       "      <td>흑백 디지털 복합기  잉크젯  포토프린터  컬러 출력  복사  스캔  팩스  인쇄 ...</td>\n",
       "    </tr>\n",
       "    <tr>\n",
       "      <th>372</th>\n",
       "      <td>Canon IR ADV DX C3725</td>\n",
       "      <td>2593940</td>\n",
       "      <td>컬러 디지털 복합기</td>\n",
       "      <td>컬러 디지털 복합기  잉크젯  포토프린터  컬러 출력  복사  스캔  팩스  인쇄 ...</td>\n",
       "    </tr>\n",
       "    <tr>\n",
       "      <th>41</th>\n",
       "      <td>ApeosPort-V C2275</td>\n",
       "      <td>0</td>\n",
       "      <td>컬러 디지털 복합기</td>\n",
       "      <td>컬러 디지털 복합기  잉크젯  포토프린터  컬러 출력  복사  스캔  팩스  인쇄 ...</td>\n",
       "    </tr>\n",
       "    <tr>\n",
       "      <th>427</th>\n",
       "      <td>Canon IR C3020</td>\n",
       "      <td>1624000</td>\n",
       "      <td>컬러 디지털 복합기</td>\n",
       "      <td>컬러 디지털 복합기  잉크젯  포토프린터  컬러 출력  복사  스캔  팩스  인쇄 ...</td>\n",
       "    </tr>\n",
       "    <tr>\n",
       "      <th>279</th>\n",
       "      <td>Canon IR ADV C3525(III)</td>\n",
       "      <td>2806000</td>\n",
       "      <td>컬러 디지털 복합기</td>\n",
       "      <td>컬러 디지털 복합기  잉크젯  포토프린터  컬러 출력  복사  스캔  팩스  인쇄 ...</td>\n",
       "    </tr>\n",
       "  </tbody>\n",
       "</table>\n",
       "</div>"
      ],
      "text/plain": [
       "                          상품명       가격        스펙 목록  \\\n",
       "585             Canon iR2206F   786000  흑백 디지털 복합기    \n",
       "3614    Kyocera FS-1035MFP/DP        0  흑백 디지털 복합기    \n",
       "3655   Kyocera TASKalfa 4012i  2564000  흑백 디지털 복합기    \n",
       "618              Canon IR2425  1096380  흑백 디지털 복합기    \n",
       "660              Canon iR2525  1649990  흑백 디지털 복합기    \n",
       "130       Brother MFC-L6900DW   657720  흑백 디지털 복합기    \n",
       "372     Canon IR ADV DX C3725  2593940  컬러 디지털 복합기    \n",
       "41          ApeosPort-V C2275        0  컬러 디지털 복합기    \n",
       "427            Canon IR C3020  1624000  컬러 디지털 복합기    \n",
       "279   Canon IR ADV C3525(III)  2806000  컬러 디지털 복합기    \n",
       "\n",
       "                                                keyword  \n",
       "585   흑백 디지털 복합기  잉크젯  포토프린터  컬러 출력  복사  스캔  팩스  인쇄 ...  \n",
       "3614  흑백 디지털 복합기  잉크젯  포토프린터  컬러 출력  복사  스캔  팩스  인쇄 ...  \n",
       "3655  흑백 디지털 복합기  잉크젯  포토프린터  컬러 출력  복사  스캔  팩스  인쇄 ...  \n",
       "618   흑백 디지털 복합기  잉크젯  포토프린터  컬러 출력  복사  스캔  팩스  인쇄 ...  \n",
       "660   흑백 디지털 복합기  잉크젯  포토프린터  컬러 출력  복사  스캔  팩스  인쇄 ...  \n",
       "130   흑백 디지털 복합기  잉크젯  포토프린터  컬러 출력  복사  스캔  팩스  인쇄 ...  \n",
       "372   컬러 디지털 복합기  잉크젯  포토프린터  컬러 출력  복사  스캔  팩스  인쇄 ...  \n",
       "41    컬러 디지털 복합기  잉크젯  포토프린터  컬러 출력  복사  스캔  팩스  인쇄 ...  \n",
       "427   컬러 디지털 복합기  잉크젯  포토프린터  컬러 출력  복사  스캔  팩스  인쇄 ...  \n",
       "279   컬러 디지털 복합기  잉크젯  포토프린터  컬러 출력  복사  스캔  팩스  인쇄 ...  "
      ]
     },
     "execution_count": 31,
     "metadata": {},
     "output_type": "execute_result"
    }
   ],
   "source": [
    "get_recommend_list(data, title='ApeosPort 2560')"
   ]
  }
 ],
 "metadata": {
  "kernelspec": {
   "display_name": "Python 3",
   "language": "python",
   "name": "python3"
  },
  "language_info": {
   "codemirror_mode": {
    "name": "ipython",
    "version": 3
   },
   "file_extension": ".py",
   "mimetype": "text/x-python",
   "name": "python",
   "nbconvert_exporter": "python",
   "pygments_lexer": "ipython3",
   "version": "3.8.5"
  }
 },
 "nbformat": 4,
 "nbformat_minor": 4
}
